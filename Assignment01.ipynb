{
  "cells": [
    {
      "cell_type": "code",
      "execution_count": null,
      "metadata": {
        "id": "g3x_LzxTJj5g"
      },
      "outputs": [],
      "source": [
        "import numpy as np;"
      ]
    },
    {
      "cell_type": "code",
      "execution_count": null,
      "metadata": {
        "id": "sBZMH00RJj5g"
      },
      "outputs": [],
      "source": [
        "import pandas as pd;"
      ]
    },
    {
      "cell_type": "code",
      "execution_count": null,
      "metadata": {
        "id": "IWX2NTQSJj5h"
      },
      "outputs": [],
      "source": [
        "data = pd.read_csv(\"biostats.csv\")"
      ]
    },
    {
      "cell_type": "code",
      "execution_count": null,
      "metadata": {
        "id": "DkytxkikJj5h",
        "outputId": "0e62e498-8cfc-4454-9a26-7ffd5f7240a6"
      },
      "outputs": [
        {
          "name": "stdout",
          "output_type": "stream",
          "text": [
            "[41 42 32 39 30 33 26 30 53 32 47 34 23 36 38 31 29 28]\n"
          ]
        }
      ],
      "source": [
        "age = np.array(data[\"Age\"])\n",
        "print(age)"
      ]
    },
    {
      "cell_type": "code",
      "execution_count": null,
      "metadata": {
        "id": "5PL7zP37Jj5i",
        "outputId": "735625ac-2740-48ca-928b-9093b6670d6d"
      },
      "outputs": [
        {
          "name": "stdout",
          "output_type": "stream",
          "text": [
            "Average            :  34.666666666666664\n",
            "Standard Deviation :  7.363574011458175\n",
            "Minimum age        :  23\n",
            "Maximum age        :  53\n"
          ]
        }
      ],
      "source": [
        "print(\"Average            : \" , age.mean())\n",
        "print(\"Standard Deviation : \" , age.std())\n",
        "print(\"Minimum age        : \" , age.min())\n",
        "print(\"Maximum age        : \" , age.max())"
      ]
    },
    {
      "cell_type": "code",
      "execution_count": null,
      "metadata": {
        "id": "_6fcwL-JJj5i",
        "outputId": "d619ced8-4413-47b9-f94a-65d96f39992c"
      },
      "outputs": [
        {
          "name": "stdout",
          "output_type": "stream",
          "text": [
            "30th Percentile :     30.1\n",
            "Median          :     32.5\n",
            "70th Percentile :     37.8\n"
          ]
        }
      ],
      "source": [
        "print(\"30th Percentile :    \", np.percentile(age , 30))\n",
        "print(\"Median          :    \", np.median(age))\n",
        "print(\"70th Percentile :    \", np.percentile(age , 70))"
      ]
    },
    {
      "cell_type": "code",
      "execution_count": null,
      "metadata": {
        "id": "VB2JXWg2Jj5j"
      },
      "outputs": [],
      "source": [
        "%matplotlib inline \n",
        "import matplotlib.pyplot as plt\n",
        "import seaborn; seaborn.set;"
      ]
    },
    {
      "cell_type": "code",
      "execution_count": null,
      "metadata": {
        "id": "IY3aSZk1Jj5j",
        "outputId": "9d85292b-ee66-4fcd-8495-da83c0f1e1cf"
      },
      "outputs": [
        {
          "data": {
            "text/plain": [
              "Text(0, 0.5, 'number')"
            ]
          },
          "execution_count": 13,
          "metadata": {},
          "output_type": "execute_result"
        },
        {
          "data": {
            "image/png": "[encoded data removed]",
            "text/plain": [
              "<Figure size 432x288 with 1 Axes>"
            ]
          },
          "metadata": {
            "needs_background": "light"
          },
          "output_type": "display_data"
        }
      ],
      "source": [
        "plt.hist(age)\n",
        "plt.title(\"Age Distribution - By Sanjay\")\n",
        "plt.xlabel(\"Age\")\n",
        "plt.ylabel(\"number\")"
      ]
    },
    {
      "cell_type": "code",
      "execution_count": null,
      "metadata": {
        "id": "Gn-J_qPMJj5k"
      },
      "outputs": [],
      "source": [
        ""
      ]
    }
  ],
  "metadata": {
    "interpreter": {
      "hash": "23784c1f7cb08f751fc8275aaeeb793366452f178ab646d6f5c554e80b94c083"
    },
    "kernelspec": {
      "display_name": "Python 3.8.8 64-bit ('base': conda)",
      "name": "python3"
    },
    "language_info": {
      "codemirror_mode": {
        "name": "ipython",
        "version": 3
      },
      "file_extension": ".py",
      "mimetype": "text/x-python",
      "name": "python",
      "nbconvert_exporter": "python",
      "pygments_lexer": "ipython3",
      "version": "3.8.8"
    },
    "orig_nbformat": 4,
    "colab": {
      "name": "Assignment01.ipynb",
      "provenance": []
    }
  },
  "nbformat": 4,
  "nbformat_minor": 0
}